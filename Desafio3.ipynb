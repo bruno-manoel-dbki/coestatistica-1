{
 "cells": [
  {
   "cell_type": "markdown",
   "metadata": {},
   "source": [
    "# Conhecendo melhor nossa base de consumidores: qual estado possui os clientes com melhores pontuações de crédito?\n",
    "\n",
    "## Objetivo\n",
    "\n",
    "Queremos conhecer melhor nossos clientes por estado. Para isso, iniciamos uma análise na pontuação de crédito. \n",
    "Para realizar a verificação inicial, precisamos de alguns valores.\n",
    "Os valores são a média, a mediana, a moda e o desvio padrão da pontuação de crédito.\n",
    "\n",
    "## Tópicos\n",
    "\n",
    "Neste desafio você aprenderá:\n",
    "\n",
    "- Média;\n",
    "- Mediana;\n",
    "- Moda;\n",
    "- Desvio padrão.\n",
    "\n",
    "## Requisitos\n",
    "\n",
    "Você precisará de python 3.6 (ou superior).\n",
    "\n",
    "O recomendado é você utilizar um [ambiente virtual](https://pythonacademy.com.br/blog/python-e-virtualenv-como-programar-em-ambientes-virtuais). Para isto, execute os comandos como no exemplo abaixo:\n",
    "\n",
    "    pip3 install virtualenv\n",
    "    virtualenv venv -p python3\n",
    "    source venv/bin/activate \n",
    "\n",
    "Ao terminar o desafio, você pode sair do ambiente criado com o comando `deactivate`\n",
    "\n",
    "## Detalhes\n",
    "\n",
    "A resposta deve conter os valores da média, mediana, moda e desvio padrão da pontuação de crédito para cada estado do dataset.\n",
    "O arquivo para submissão deve estar em formato json, conforme o arquivo exemplo \"submission.json\".\n",
    "\n",
    "**OBSERVAÇÃO:**  É recomendado utilizar Python e pandas para esse desafio, mas também é possível utilizar outras ferramentas e linguagens de programação.\n",
    "\n",
    "Descrição dos dados:\n",
    "'id': Identificador do cliente\n",
    "'sobrenome': Sobrenome do cliente\n",
    "'pontuacao_credito': Pontuação de crédito do cliente (quanto maior, melhor o cliente geralmente)\n",
    "'estado_residencia': Estado de residência do cliente\n",
    "'genero': Gênero do cliente\n",
    "'nivel_estabilidade': Nível de estabilidade do cliente\n",
    "'saldo_conta': Saldo disponível na conta do cliente\n",
    "'numero_produtos': Número de produtos que o cliente consome\n",
    "'possui_cartao_de_credito': Possui um cartão de crédito cadastrado\n",
    "'membro_ativo': Membro acessa e consome frequentemente\n",
    "\n",
    "Obs: Os dados são fictícios, mas tentam representar a realidade de uma base de clientes de um produto SaaS. \n",
    "\n",
    "\n",
    "\n",
    "\n"
   ]
  },
  {
   "cell_type": "markdown",
   "metadata": {},
   "source": [
    "## Iniciando o desenvolvimento"
   ]
  },
  {
   "cell_type": "code",
   "execution_count": 10,
   "metadata": {},
   "outputs": [],
   "source": [
    "import pandas as pd\n",
    "import numpy as np\n",
    "import seaborn as sns\n",
    "import matplotlib.pyplot as plt"
   ]
  },
  {
   "cell_type": "code",
   "execution_count": 3,
   "metadata": {},
   "outputs": [
    {
     "data": {
      "text/html": [
       "<div>\n",
       "<style scoped>\n",
       "    .dataframe tbody tr th:only-of-type {\n",
       "        vertical-align: middle;\n",
       "    }\n",
       "\n",
       "    .dataframe tbody tr th {\n",
       "        vertical-align: top;\n",
       "    }\n",
       "\n",
       "    .dataframe thead th {\n",
       "        text-align: right;\n",
       "    }\n",
       "</style>\n",
       "<table border=\"1\" class=\"dataframe\">\n",
       "  <thead>\n",
       "    <tr style=\"text-align: right;\">\n",
       "      <th></th>\n",
       "      <th>RowNumber</th>\n",
       "      <th>id</th>\n",
       "      <th>sobrenome</th>\n",
       "      <th>pontuacao_credito</th>\n",
       "      <th>estado_residencia</th>\n",
       "      <th>genero</th>\n",
       "      <th>idade</th>\n",
       "      <th>nivel_estabilidade</th>\n",
       "      <th>saldo_conta</th>\n",
       "      <th>numero_produtos</th>\n",
       "      <th>possui_cartao_de_credito</th>\n",
       "      <th>membro_ativo</th>\n",
       "    </tr>\n",
       "  </thead>\n",
       "  <tbody>\n",
       "    <tr>\n",
       "      <th>0</th>\n",
       "      <td>1</td>\n",
       "      <td>e7f44fcbd380d4cef7e6c232cc7e37895c3fd197</td>\n",
       "      <td>6d6e0aa1b9b413e442e2fb68df14b4fc3f91de50</td>\n",
       "      <td>619</td>\n",
       "      <td>SC</td>\n",
       "      <td>F</td>\n",
       "      <td>42</td>\n",
       "      <td>2</td>\n",
       "      <td>0.00</td>\n",
       "      <td>1</td>\n",
       "      <td>1</td>\n",
       "      <td>1</td>\n",
       "    </tr>\n",
       "    <tr>\n",
       "      <th>1</th>\n",
       "      <td>2</td>\n",
       "      <td>28dcb083ad90512da16b9430085c2cddb8ca5e12</td>\n",
       "      <td>48e1ad846796fa314f1b4a6702b83343eb5482c5</td>\n",
       "      <td>608</td>\n",
       "      <td>RS</td>\n",
       "      <td>F</td>\n",
       "      <td>41</td>\n",
       "      <td>1</td>\n",
       "      <td>83807.86</td>\n",
       "      <td>1</td>\n",
       "      <td>0</td>\n",
       "      <td>1</td>\n",
       "    </tr>\n",
       "    <tr>\n",
       "      <th>2</th>\n",
       "      <td>3</td>\n",
       "      <td>774bc378f787438c9c7594e536787d07a097a54b</td>\n",
       "      <td>f2b29d5d934de615812b697132e767dea0f1e9e2</td>\n",
       "      <td>502</td>\n",
       "      <td>SC</td>\n",
       "      <td>F</td>\n",
       "      <td>42</td>\n",
       "      <td>8</td>\n",
       "      <td>159660.80</td>\n",
       "      <td>3</td>\n",
       "      <td>1</td>\n",
       "      <td>0</td>\n",
       "    </tr>\n",
       "    <tr>\n",
       "      <th>3</th>\n",
       "      <td>4</td>\n",
       "      <td>043a71326f7096de155e7f0c559dc62b5e4b7239</td>\n",
       "      <td>85d5c9da7cddd8109ad32a6c348fe2bb10bf99f2</td>\n",
       "      <td>699</td>\n",
       "      <td>SC</td>\n",
       "      <td>F</td>\n",
       "      <td>39</td>\n",
       "      <td>1</td>\n",
       "      <td>0.00</td>\n",
       "      <td>2</td>\n",
       "      <td>0</td>\n",
       "      <td>0</td>\n",
       "    </tr>\n",
       "    <tr>\n",
       "      <th>4</th>\n",
       "      <td>5</td>\n",
       "      <td>37b3bb8ca243955fb3605ec7e1c2a4607cdb3b22</td>\n",
       "      <td>ddc89c837a6933639de75f28171057060bd322df</td>\n",
       "      <td>850</td>\n",
       "      <td>RS</td>\n",
       "      <td>F</td>\n",
       "      <td>43</td>\n",
       "      <td>2</td>\n",
       "      <td>125510.82</td>\n",
       "      <td>1</td>\n",
       "      <td>1</td>\n",
       "      <td>1</td>\n",
       "    </tr>\n",
       "  </tbody>\n",
       "</table>\n",
       "</div>"
      ],
      "text/plain": [
       "   RowNumber                                        id  \\\n",
       "0          1  e7f44fcbd380d4cef7e6c232cc7e37895c3fd197   \n",
       "1          2  28dcb083ad90512da16b9430085c2cddb8ca5e12   \n",
       "2          3  774bc378f787438c9c7594e536787d07a097a54b   \n",
       "3          4  043a71326f7096de155e7f0c559dc62b5e4b7239   \n",
       "4          5  37b3bb8ca243955fb3605ec7e1c2a4607cdb3b22   \n",
       "\n",
       "                                  sobrenome  pontuacao_credito  \\\n",
       "0  6d6e0aa1b9b413e442e2fb68df14b4fc3f91de50                619   \n",
       "1  48e1ad846796fa314f1b4a6702b83343eb5482c5                608   \n",
       "2  f2b29d5d934de615812b697132e767dea0f1e9e2                502   \n",
       "3  85d5c9da7cddd8109ad32a6c348fe2bb10bf99f2                699   \n",
       "4  ddc89c837a6933639de75f28171057060bd322df                850   \n",
       "\n",
       "  estado_residencia genero  idade  nivel_estabilidade  saldo_conta  \\\n",
       "0                SC      F     42                   2         0.00   \n",
       "1                RS      F     41                   1     83807.86   \n",
       "2                SC      F     42                   8    159660.80   \n",
       "3                SC      F     39                   1         0.00   \n",
       "4                RS      F     43                   2    125510.82   \n",
       "\n",
       "   numero_produtos  possui_cartao_de_credito  membro_ativo  \n",
       "0                1                         1             1  \n",
       "1                1                         0             1  \n",
       "2                3                         1             0  \n",
       "3                2                         0             0  \n",
       "4                1                         1             1  "
      ]
     },
     "execution_count": 3,
     "metadata": {},
     "output_type": "execute_result"
    }
   ],
   "source": [
    "df_consumer = pd.read_csv(\"desafio1.csv\")\n",
    "df_consumer.head()\n"
   ]
  },
  {
   "cell_type": "code",
   "execution_count": 4,
   "metadata": {},
   "outputs": [
    {
     "data": {
      "text/html": [
       "<div>\n",
       "<style scoped>\n",
       "    .dataframe tbody tr th:only-of-type {\n",
       "        vertical-align: middle;\n",
       "    }\n",
       "\n",
       "    .dataframe tbody tr th {\n",
       "        vertical-align: top;\n",
       "    }\n",
       "\n",
       "    .dataframe thead th {\n",
       "        text-align: right;\n",
       "    }\n",
       "</style>\n",
       "<table border=\"1\" class=\"dataframe\">\n",
       "  <thead>\n",
       "    <tr style=\"text-align: right;\">\n",
       "      <th></th>\n",
       "      <th>SC</th>\n",
       "      <th>RS</th>\n",
       "      <th>PR</th>\n",
       "    </tr>\n",
       "  </thead>\n",
       "  <tbody>\n",
       "    <tr>\n",
       "      <th>moda</th>\n",
       "      <td>NaN</td>\n",
       "      <td>NaN</td>\n",
       "      <td>NaN</td>\n",
       "    </tr>\n",
       "    <tr>\n",
       "      <th>mediana</th>\n",
       "      <td>NaN</td>\n",
       "      <td>NaN</td>\n",
       "      <td>NaN</td>\n",
       "    </tr>\n",
       "    <tr>\n",
       "      <th>media</th>\n",
       "      <td>NaN</td>\n",
       "      <td>NaN</td>\n",
       "      <td>NaN</td>\n",
       "    </tr>\n",
       "    <tr>\n",
       "      <th>desvio_padrao</th>\n",
       "      <td>NaN</td>\n",
       "      <td>NaN</td>\n",
       "      <td>NaN</td>\n",
       "    </tr>\n",
       "  </tbody>\n",
       "</table>\n",
       "</div>"
      ],
      "text/plain": [
       "                SC   RS   PR\n",
       "moda           NaN  NaN  NaN\n",
       "mediana        NaN  NaN  NaN\n",
       "media          NaN  NaN  NaN\n",
       "desvio_padrao  NaN  NaN  NaN"
      ]
     },
     "execution_count": 4,
     "metadata": {},
     "output_type": "execute_result"
    }
   ],
   "source": [
    "\n",
    "df_gpby= df_consumer.groupby(\"estado_residencia\")\n",
    "\n",
    "ret = pd.DataFrame()\n",
    "ret = pd.DataFrame(index = [\"moda\", \"mediana\", \"media\", \"desvio_padrao\"], columns = [\"SC\",\"RS\", \"PR\"])\n",
    "ret\n"
   ]
  },
  {
   "cell_type": "code",
   "execution_count": 5,
   "metadata": {},
   "outputs": [
    {
     "data": {
      "text/html": [
       "<div>\n",
       "<style scoped>\n",
       "    .dataframe tbody tr th:only-of-type {\n",
       "        vertical-align: middle;\n",
       "    }\n",
       "\n",
       "    .dataframe tbody tr th {\n",
       "        vertical-align: top;\n",
       "    }\n",
       "\n",
       "    .dataframe thead th {\n",
       "        text-align: right;\n",
       "    }\n",
       "</style>\n",
       "<table border=\"1\" class=\"dataframe\">\n",
       "  <thead>\n",
       "    <tr style=\"text-align: right;\">\n",
       "      <th></th>\n",
       "      <th>SC</th>\n",
       "      <th>RS</th>\n",
       "      <th>PR</th>\n",
       "    </tr>\n",
       "  </thead>\n",
       "  <tbody>\n",
       "    <tr>\n",
       "      <th>moda</th>\n",
       "      <td>850.000000</td>\n",
       "      <td>850.000000</td>\n",
       "      <td>850.000000</td>\n",
       "    </tr>\n",
       "    <tr>\n",
       "      <th>mediana</th>\n",
       "      <td>653.000000</td>\n",
       "      <td>650.000000</td>\n",
       "      <td>650.000000</td>\n",
       "    </tr>\n",
       "    <tr>\n",
       "      <th>media</th>\n",
       "      <td>649.537653</td>\n",
       "      <td>651.105143</td>\n",
       "      <td>648.961294</td>\n",
       "    </tr>\n",
       "    <tr>\n",
       "      <th>desvio_padrao</th>\n",
       "      <td>97.233493</td>\n",
       "      <td>95.136598</td>\n",
       "      <td>98.607186</td>\n",
       "    </tr>\n",
       "  </tbody>\n",
       "</table>\n",
       "</div>"
      ],
      "text/plain": [
       "                       SC          RS          PR\n",
       "moda           850.000000  850.000000  850.000000\n",
       "mediana        653.000000  650.000000  650.000000\n",
       "media          649.537653  651.105143  648.961294\n",
       "desvio_padrao   97.233493   95.136598   98.607186"
      ]
     },
     "execution_count": 5,
     "metadata": {},
     "output_type": "execute_result"
    }
   ],
   "source": [
    "for uf, df in df_gpby:\n",
    "    ret[uf] = (df.pontuacao_credito.mode()[0],df.pontuacao_credito.median(), df.pontuacao_credito.mean(),df.pontuacao_credito.std())\n",
    "\n",
    "ret\n"
   ]
  },
  {
   "cell_type": "code",
   "execution_count": 23,
   "metadata": {},
   "outputs": [],
   "source": [
    "ret.to_json(\"submission.json\")"
   ]
  },
  {
   "cell_type": "code",
   "execution_count": 17,
   "metadata": {},
   "outputs": [
    {
     "data": {
      "image/png": "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\n",
      "text/plain": [
       "<Figure size 432x288 with 1 Axes>"
      ]
     },
     "metadata": {
      "needs_background": "light"
     },
     "output_type": "display_data"
    },
    {
     "data": {
      "image/png": "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\n",
      "text/plain": [
       "<Figure size 432x288 with 1 Axes>"
      ]
     },
     "metadata": {
      "needs_background": "light"
     },
     "output_type": "display_data"
    },
    {
     "data": {
      "image/png": "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\n",
      "text/plain": [
       "<Figure size 432x288 with 1 Axes>"
      ]
     },
     "metadata": {
      "needs_background": "light"
     },
     "output_type": "display_data"
    }
   ],
   "source": [
    "for uf, df in df_gpby:\n",
    "    plt.figure()\n",
    "    sns.distplot(df.pontuacao_credito)\n",
    "    "
   ]
  },
 ],
 "metadata": {
  "kernelspec": {
   "display_name": "Python 3",
   "language": "python",
   "name": "python3"
  },
  "language_info": {
   "codemirror_mode": {
    "name": "ipython",
    "version": 3
   },
   "file_extension": ".py",
   "mimetype": "text/x-python",
   "name": "python",
   "nbconvert_exporter": "python",
   "pygments_lexer": "ipython3",
   "version": "3.6.7"
  }
 },
 "nbformat": 4,
 "nbformat_minor": 2
}
